{
  "cells": [
    {
      "cell_type": "markdown",
      "metadata": {
        "id": "view-in-github",
        "colab_type": "text"
      },
      "source": [
        "<a href=\"https://colab.research.google.com/github/mejoryoonginista/EAS1/blob/main/Copia_de_Python_Tuples.ipynb\" target=\"_parent\"><img src=\"https://colab.research.google.com/assets/colab-badge.svg\" alt=\"Open In Colab\"/></a>"
      ]
    },
    {
      "cell_type": "markdown",
      "metadata": {
        "id": "lNv7Ih8U1kYU"
      },
      "source": [
        "<a href=\"https://imgur.com/6U6q5jQ\"><img src=\"https://i.imgur.com/6U6q5jQ.png\" title=\"source: imgur.com\" /></a>\n"
      ]
    },
    {
      "cell_type": "markdown",
      "metadata": {
        "id": "6TqYtxaftWhf"
      },
      "source": [
        "<a target=\"_blank\" href=\"https://colab.research.google.com/github/PythonVersusR/basicDataStructures_tuples/blob/main/Python_Tuples.ipynb\">\n",
        "  <img src=\"https://colab.research.google.com/assets/colab-badge.svg\" alt=\"Open In Colab\"/>\n",
        "</a>\n",
        "\n",
        "#  **TUPLES**\n",
        "\n",
        "Tuples are inmutable structures in Python, they look like lists but do not share much of their functionality:"
      ]
    },
    {
      "cell_type": "code",
      "execution_count": 1,
      "metadata": {
        "id": "xcBxNtLDtWhg"
      },
      "outputs": [],
      "source": [
        "names=\"Cerle\", \"Nayely\", \"Camilo\""
      ]
    },
    {
      "cell_type": "code",
      "execution_count": 2,
      "metadata": {
        "id": "i8YTGmf5jWz2",
        "colab": {
          "base_uri": "https://localhost:8080/"
        },
        "outputId": "d39646bb-be33-4847-cf9d-911620d354b0"
      },
      "outputs": [
        {
          "output_type": "execute_result",
          "data": {
            "text/plain": [
              "tuple"
            ]
          },
          "metadata": {},
          "execution_count": 2
        }
      ],
      "source": [
        "type(names)"
      ]
    },
    {
      "cell_type": "markdown",
      "metadata": {
        "id": "ii6lRXlZtWhj"
      },
      "source": [
        "You can access:"
      ]
    },
    {
      "cell_type": "code",
      "execution_count": 3,
      "metadata": {
        "id": "QtVsil3CtWhj",
        "colab": {
          "base_uri": "https://localhost:8080/",
          "height": 35
        },
        "outputId": "1350be23-c890-4105-e07a-fe1006c14f92"
      },
      "outputs": [
        {
          "output_type": "execute_result",
          "data": {
            "text/plain": [
              "'Nayely'"
            ],
            "application/vnd.google.colaboratory.intrinsic+json": {
              "type": "string"
            }
          },
          "metadata": {},
          "execution_count": 3
        }
      ],
      "source": [
        "names[1] #first position"
      ]
    },
    {
      "cell_type": "markdown",
      "metadata": {
        "id": "9VyDiWG0tWhn"
      },
      "source": [
        "But no other operation is allowed:"
      ]
    },
    {
      "cell_type": "code",
      "execution_count": 4,
      "metadata": {
        "id": "knEfvHt2Je_k",
        "colab": {
          "base_uri": "https://localhost:8080/",
          "height": 179
        },
        "outputId": "dc3f19c6-0dba-4a49-f2fc-fbd58400125f"
      },
      "outputs": [
        {
          "output_type": "error",
          "ename": "TypeError",
          "evalue": "'tuple' object doesn't support item deletion",
          "traceback": [
            "\u001b[0;31m---------------------------------------------------------------------------\u001b[0m",
            "\u001b[0;31mTypeError\u001b[0m                                 Traceback (most recent call last)",
            "\u001b[0;32m<ipython-input-4-17145e8e8011>\u001b[0m in \u001b[0;36m<cell line: 1>\u001b[0;34m()\u001b[0m\n\u001b[0;32m----> 1\u001b[0;31m \u001b[0;32mdel\u001b[0m \u001b[0mnames\u001b[0m\u001b[0;34m[\u001b[0m\u001b[0;36m0\u001b[0m\u001b[0;34m]\u001b[0m \u001b[0;31m#it does not work\u001b[0m\u001b[0;34m\u001b[0m\u001b[0;34m\u001b[0m\u001b[0m\n\u001b[0m",
            "\u001b[0;31mTypeError\u001b[0m: 'tuple' object doesn't support item deletion"
          ]
        }
      ],
      "source": [
        "del names[0] #it does not work"
      ]
    },
    {
      "cell_type": "code",
      "execution_count": 5,
      "metadata": {
        "id": "I2sT23Y1JmKI",
        "colab": {
          "base_uri": "https://localhost:8080/",
          "height": 179
        },
        "outputId": "0ab886f5-5ae6-4e06-ab44-7b859a872c08"
      },
      "outputs": [
        {
          "output_type": "error",
          "ename": "TypeError",
          "evalue": "'tuple' object does not support item assignment",
          "traceback": [
            "\u001b[0;31m---------------------------------------------------------------------------\u001b[0m",
            "\u001b[0;31mTypeError\u001b[0m                                 Traceback (most recent call last)",
            "\u001b[0;32m<ipython-input-5-9ef0010ec1e9>\u001b[0m in \u001b[0;36m<cell line: 1>\u001b[0;34m()\u001b[0m\n\u001b[0;32m----> 1\u001b[0;31m \u001b[0mnames\u001b[0m\u001b[0;34m[\u001b[0m\u001b[0;36m0\u001b[0m\u001b[0;34m]\u001b[0m\u001b[0;34m=\u001b[0m\u001b[0;34m'Min'\u001b[0m \u001b[0;31m#it does not work\u001b[0m\u001b[0;34m\u001b[0m\u001b[0;34m\u001b[0m\u001b[0m\n\u001b[0m",
            "\u001b[0;31mTypeError\u001b[0m: 'tuple' object does not support item assignment"
          ]
        }
      ],
      "source": [
        "names[0]='Min' #it does not work"
      ]
    },
    {
      "cell_type": "code",
      "execution_count": 6,
      "metadata": {
        "id": "FegD3iFmJwDv",
        "colab": {
          "base_uri": "https://localhost:8080/",
          "height": 179
        },
        "outputId": "dae08829-b145-4eaf-a342-5045b3862d03"
      },
      "outputs": [
        {
          "output_type": "error",
          "ename": "TypeError",
          "evalue": "'tuple' object does not support item assignment",
          "traceback": [
            "\u001b[0;31m---------------------------------------------------------------------------\u001b[0m",
            "\u001b[0;31mTypeError\u001b[0m                                 Traceback (most recent call last)",
            "\u001b[0;32m<ipython-input-6-206f53037e43>\u001b[0m in \u001b[0;36m<cell line: 1>\u001b[0;34m()\u001b[0m\n\u001b[0;32m----> 1\u001b[0;31m \u001b[0mnames\u001b[0m\u001b[0;34m[\u001b[0m\u001b[0;36m3\u001b[0m\u001b[0;34m]\u001b[0m\u001b[0;34m=\u001b[0m\u001b[0;34m'Extra Holiday'\u001b[0m \u001b[0;31m#it does not work\u001b[0m\u001b[0;34m\u001b[0m\u001b[0;34m\u001b[0m\u001b[0m\n\u001b[0m",
            "\u001b[0;31mTypeError\u001b[0m: 'tuple' object does not support item assignment"
          ]
        }
      ],
      "source": [
        "names[3]='Extra Holiday' #it does not work"
      ]
    },
    {
      "cell_type": "markdown",
      "metadata": {
        "id": "j70EnHTHKL4k"
      },
      "source": [
        "You can concatenate two tuples into a new one:"
      ]
    },
    {
      "cell_type": "code",
      "execution_count": 7,
      "metadata": {
        "id": "JjWqrH2LJ-SE",
        "colab": {
          "base_uri": "https://localhost:8080/"
        },
        "outputId": "2b49641b-461b-4bc9-e942-86d4c0d3bcf5"
      },
      "outputs": [
        {
          "output_type": "execute_result",
          "data": {
            "text/plain": [
              "('Diana', 'Mitski', 'Sana', 'Laufey')"
            ]
          },
          "metadata": {},
          "execution_count": 7
        }
      ],
      "source": [
        "otherNames='Diana','Mitski', 'Sana', 'Laufey'\n",
        "otherNames"
      ]
    },
    {
      "cell_type": "code",
      "execution_count": 8,
      "metadata": {
        "id": "0Xl7NrbuKKvu",
        "colab": {
          "base_uri": "https://localhost:8080/"
        },
        "outputId": "ab2128b3-5ed1-4aae-f185-5134aab6f391"
      },
      "outputs": [
        {
          "output_type": "execute_result",
          "data": {
            "text/plain": [
              "('Cerle', 'Nayely', 'Camilo', 'Diana', 'Mitski', 'Sana', 'Laufey')"
            ]
          },
          "metadata": {},
          "execution_count": 8
        }
      ],
      "source": [
        "allNames=names + otherNames\n",
        "allNames"
      ]
    },
    {
      "cell_type": "markdown",
      "metadata": {
        "id": "QOLRbmojKcAl"
      },
      "source": [
        "But it has not altered any previous tuple."
      ]
    }
  ],
  "metadata": {
    "anaconda-cloud": {
      "attach-environment": true,
      "summary": "test"
    },
    "colab": {
      "provenance": [],
      "toc_visible": true,
      "include_colab_link": true
    },
    "hide_input": false,
    "kernelspec": {
      "display_name": "Python 3 (ipykernel)",
      "language": "python",
      "name": "python3"
    },
    "language_info": {
      "codemirror_mode": {
        "name": "ipython",
        "version": 3
      },
      "file_extension": ".py",
      "mimetype": "text/x-python",
      "name": "python",
      "nbconvert_exporter": "python",
      "pygments_lexer": "ipython3",
      "version": "3.12.0"
    }
  },
  "nbformat": 4,
  "nbformat_minor": 0
}