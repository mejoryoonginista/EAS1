{
  "cells": [
    {
      "cell_type": "markdown",
      "metadata": {
        "id": "view-in-github",
        "colab_type": "text"
      },
      "source": [
        "<a href=\"https://colab.research.google.com/github/mejoryoonginista/EAS1/blob/main/Copia_de_R_Python_Vectors.ipynb\" target=\"_parent\"><img src=\"https://colab.research.google.com/assets/colab-badge.svg\" alt=\"Open In Colab\"/></a>"
      ]
    },
    {
      "cell_type": "markdown",
      "metadata": {
        "id": "Bb5P9oBJtWgi"
      },
      "source": [
        "<img src=\"https://i.imgur.com/6U6q5jQ.png\"/>\n",
        "\n",
        "<a target=\"_blank\" href=\"https://colab.research.google.com/github/PythonVersusR/basicDataStructures_vectors/blob/main/R_Python_Vectors.ipynb\">\n",
        "  <img src=\"https://colab.research.google.com/assets/colab-badge.svg\" alt=\"Open In Colab\"/>\n",
        "</a>\n",
        "\n",
        "# Vectors in R and Python"
      ]
    },
    {
      "cell_type": "code",
      "execution_count": 1,
      "metadata": {
        "id": "OndQW41fGCHM"
      },
      "outputs": [],
      "source": [
        "## if needed, run this and RESTART KERNEL\n",
        "# import os\n",
        "# os.environ['R_HOME'] ='/Library/Frameworks/R.framework/Resources'"
      ]
    },
    {
      "cell_type": "code",
      "execution_count": 2,
      "metadata": {
        "id": "oo3FOXWP6ewM"
      },
      "outputs": [],
      "source": [
        "%load_ext rpy2.ipython"
      ]
    },
    {
      "cell_type": "markdown",
      "metadata": {
        "id": "ix7xtYzM7GsE"
      },
      "source": [
        "## 1. Creating"
      ]
    },
    {
      "cell_type": "code",
      "execution_count": 3,
      "metadata": {
        "id": "GHJeUsWetWgm"
      },
      "outputs": [],
      "source": [
        "import numpy as np\n",
        "\n",
        "namesP=np.array([\"Juggy\", \"Karla\", \"Taehyun\", \"Yoongi\",\"Jordan\"])\n",
        "agesP=np.array([27,21,21,30,34])\n",
        "countryP=np.array([\"Mexico\", \"Peru\", \"Canada\", \"Korea\",\"United States\"])\n",
        "occupationP=np.array([\"Teacher\", \"Publicist\", \"Call center agent\", \"Doctor\",\"Psychologist\"])"
      ]
    },
    {
      "cell_type": "code",
      "execution_count": 4,
      "metadata": {
        "colab": {
          "base_uri": "https://localhost:8080/"
        },
        "id": "bYQ8wWNQ6rSt",
        "outputId": "1d3a1809-15f0-4258-c52e-bb753f320f04"
      },
      "outputs": [
        {
          "output_type": "execute_result",
          "data": {
            "text/plain": [
              "array(['Juggy', 'Karla', 'Taehyun', 'Yoongi', 'Jordan'], dtype='<U7')"
            ]
          },
          "metadata": {},
          "execution_count": 4
        }
      ],
      "source": [
        "namesP"
      ]
    },
    {
      "cell_type": "code",
      "execution_count": 5,
      "metadata": {
        "id": "dUxYQK6F5lks"
      },
      "outputs": [],
      "source": [
        "%%R\n",
        "namesR=c(\"Juggy\", \"Karla\", \"Taehyun\", \"Yoongi\",\"Jordan\")\n",
        "agesR=c(27,21,21,30,34)\n",
        "countryR=c(\"Mexico\", \"Peru\", \"Canada\", \"Korea\",\"United States\")\n",
        "occupationR=c(\"Teacher\", \"Publicist\", \"Call center agent\", \"Doctor\",\"Psychologist\")"
      ]
    },
    {
      "cell_type": "code",
      "execution_count": 6,
      "metadata": {
        "colab": {
          "base_uri": "https://localhost:8080/"
        },
        "id": "9h7K4xpm6lzE",
        "outputId": "ea5c82d4-8558-446f-e078-0cbea0c274df"
      },
      "outputs": [
        {
          "output_type": "stream",
          "name": "stdout",
          "text": [
            "[1] \"Juggy\"   \"Karla\"   \"Taehyun\" \"Yoongi\"  \"Jordan\" \n"
          ]
        }
      ],
      "source": [
        "%%R\n",
        "namesR"
      ]
    },
    {
      "cell_type": "markdown",
      "metadata": {
        "id": "_y7hce_8tWgr"
      },
      "source": [
        "## 2. Accessing"
      ]
    },
    {
      "cell_type": "code",
      "execution_count": 7,
      "metadata": {
        "colab": {
          "base_uri": "https://localhost:8080/"
        },
        "id": "Hp4CogsCtWgr",
        "outputId": "969601f4-c8ca-47de-cc39-f2a0e9ec0eef"
      },
      "outputs": [
        {
          "output_type": "execute_result",
          "data": {
            "text/plain": [
              "30"
            ]
          },
          "metadata": {},
          "execution_count": 7
        }
      ],
      "source": [
        "agesP[3]"
      ]
    },
    {
      "cell_type": "code",
      "execution_count": 8,
      "metadata": {
        "colab": {
          "base_uri": "https://localhost:8080/"
        },
        "id": "bZalkSyg7ozY",
        "outputId": "f387c61e-acf5-4ac0-c1ab-808bebc57b11"
      },
      "outputs": [
        {
          "output_type": "stream",
          "name": "stdout",
          "text": [
            "[1] 27\n"
          ]
        }
      ],
      "source": [
        "%%R\n",
        "agesR[1]"
      ]
    },
    {
      "cell_type": "code",
      "execution_count": 9,
      "metadata": {
        "colab": {
          "base_uri": "https://localhost:8080/",
          "height": 35
        },
        "id": "MuQtAvsH-rJw",
        "outputId": "446a89bf-3c92-492f-917d-d56b9d92948a"
      },
      "outputs": [
        {
          "output_type": "execute_result",
          "data": {
            "text/plain": [
              "'United States'"
            ],
            "application/vnd.google.colaboratory.intrinsic+json": {
              "type": "string"
            }
          },
          "metadata": {},
          "execution_count": 9
        }
      ],
      "source": [
        "countryP[-1]"
      ]
    },
    {
      "cell_type": "code",
      "execution_count": 10,
      "metadata": {
        "colab": {
          "base_uri": "https://localhost:8080/"
        },
        "id": "Ffzl7qci-yzx",
        "outputId": "ee469a7d-0bc1-4d9d-a589-31406c6c1816"
      },
      "outputs": [
        {
          "output_type": "stream",
          "name": "stdout",
          "text": [
            "[1] \"Korea\"         \"United States\"\n"
          ]
        }
      ],
      "source": [
        "%%R\n",
        "tail(countryR,2)"
      ]
    },
    {
      "cell_type": "markdown",
      "metadata": {
        "id": "hAq14dMo8TnG"
      },
      "source": [
        "### Slices"
      ]
    },
    {
      "cell_type": "code",
      "execution_count": 11,
      "metadata": {
        "id": "pa7c_1M1tWgv",
        "colab": {
          "base_uri": "https://localhost:8080/"
        },
        "outputId": "fe8ea96f-e5cc-407d-b24e-efb86a63617f"
      },
      "outputs": [
        {
          "output_type": "execute_result",
          "data": {
            "text/plain": [
              "array([21])"
            ]
          },
          "metadata": {},
          "execution_count": 11
        }
      ],
      "source": [
        "agesP[1:2] #second to third"
      ]
    },
    {
      "cell_type": "code",
      "execution_count": 12,
      "metadata": {
        "id": "AF942YnF8yc9",
        "colab": {
          "base_uri": "https://localhost:8080/"
        },
        "outputId": "5142d988-e229-4a2c-cacb-aa08cee7cb99"
      },
      "outputs": [
        {
          "output_type": "stream",
          "name": "stdout",
          "text": [
            "[1] 21 21 30\n"
          ]
        }
      ],
      "source": [
        "%%R\n",
        "agesR[2:4]"
      ]
    },
    {
      "cell_type": "code",
      "execution_count": 13,
      "metadata": {
        "id": "p8h88eUjtWg1",
        "colab": {
          "base_uri": "https://localhost:8080/"
        },
        "outputId": "05310463-6f25-45a4-9f28-c6081b6a0f9f"
      },
      "outputs": [
        {
          "output_type": "execute_result",
          "data": {
            "text/plain": [
              "array([27, 21, 30])"
            ]
          },
          "metadata": {},
          "execution_count": 13
        }
      ],
      "source": [
        "agesP[[0,2,3]]"
      ]
    },
    {
      "cell_type": "code",
      "execution_count": 14,
      "metadata": {
        "id": "c8RpFx1dAEmz",
        "colab": {
          "base_uri": "https://localhost:8080/"
        },
        "outputId": "78444ccb-268a-4ba8-a5ac-8f252d1cbb27"
      },
      "outputs": [
        {
          "output_type": "stream",
          "name": "stdout",
          "text": [
            "[1] 27 21 30\n"
          ]
        }
      ],
      "source": [
        "%%R\n",
        "agesR[c(1,3,4)]"
      ]
    },
    {
      "cell_type": "markdown",
      "metadata": {
        "id": "3HdLpDektWg6"
      },
      "source": [
        "## Replacing"
      ]
    },
    {
      "cell_type": "markdown",
      "metadata": {
        "id": "W9tJhxjeBMyX"
      },
      "source": [
        "### by Position"
      ]
    },
    {
      "cell_type": "code",
      "execution_count": 15,
      "metadata": {
        "id": "Q5mtP1j8tWg7",
        "colab": {
          "base_uri": "https://localhost:8080/"
        },
        "outputId": "a4d4a149-863d-4077-d443-4f9affefa938"
      },
      "outputs": [
        {
          "output_type": "execute_result",
          "data": {
            "text/plain": [
              "array(['Norway', 'Peru', 'Canada', 'Korea', 'United States'], dtype='<U13')"
            ]
          },
          "metadata": {},
          "execution_count": 15
        }
      ],
      "source": [
        "countryP[0]=\"Norway\"\n",
        "\n",
        "# list changed:\n",
        "countryP"
      ]
    },
    {
      "cell_type": "code",
      "execution_count": 16,
      "metadata": {
        "id": "Bq1cr1VPBRJz",
        "colab": {
          "base_uri": "https://localhost:8080/"
        },
        "outputId": "249ecffa-23bd-4619-f57d-a0428f14a39d"
      },
      "outputs": [
        {
          "output_type": "stream",
          "name": "stdout",
          "text": [
            "[1] \"Mexico\"        \"Peru\"          \"Canada\"        \"Uruguay\"      \n",
            "[5] \"United States\"\n"
          ]
        }
      ],
      "source": [
        "%%R\n",
        "countryR[4]=\"Uruguay\"\n",
        "\n",
        "# list changed:\n",
        "countryR"
      ]
    },
    {
      "cell_type": "markdown",
      "metadata": {
        "id": "i3KudD3Don96"
      },
      "source": [
        "### By Value"
      ]
    },
    {
      "cell_type": "code",
      "execution_count": 17,
      "metadata": {
        "id": "Nf9PJWMjqiNI",
        "colab": {
          "base_uri": "https://localhost:8080/"
        },
        "outputId": "5b2b36e7-79f5-4e91-d73a-af8c1237951c"
      },
      "outputs": [
        {
          "output_type": "execute_result",
          "data": {
            "text/plain": [
              "array(['Norway', 'China', 'Canada', 'Korea', 'United States'],\n",
              "      dtype='<U13')"
            ]
          },
          "metadata": {},
          "execution_count": 17
        }
      ],
      "source": [
        "countryP=np.char.replace(countryP, 'Peru', 'China')\n",
        "countryP"
      ]
    },
    {
      "cell_type": "code",
      "execution_count": 18,
      "metadata": {
        "id": "ZozgXyECpjy2",
        "colab": {
          "base_uri": "https://localhost:8080/"
        },
        "outputId": "b357c0d1-79ab-461b-fcdf-aec907fb3d86"
      },
      "outputs": [
        {
          "output_type": "stream",
          "name": "stdout",
          "text": [
            "[1] \"Mexico\"        \"Peru\"          \"Italy\"         \"Uruguay\"      \n",
            "[5] \"United States\"\n"
          ]
        }
      ],
      "source": [
        "%%R\n",
        "countryR[countryR=='Canada']=\"Italy\"\n",
        "countryR"
      ]
    },
    {
      "cell_type": "markdown",
      "metadata": {
        "id": "_CF8wYu0tWhH"
      },
      "source": [
        "## Deleting"
      ]
    },
    {
      "cell_type": "markdown",
      "metadata": {
        "id": "bjYzRXv2rB2r"
      },
      "source": [
        "### By Position"
      ]
    },
    {
      "cell_type": "code",
      "execution_count": 19,
      "metadata": {
        "id": "ghWSnmzftWhH",
        "colab": {
          "base_uri": "https://localhost:8080/"
        },
        "outputId": "fa0aa7a2-aedc-401f-a751-f0be1dc8fcc4"
      },
      "outputs": [
        {
          "output_type": "execute_result",
          "data": {
            "text/plain": [
              "array(['Norway', 'China', 'Canada', 'Korea'], dtype='<U13')"
            ]
          },
          "metadata": {},
          "execution_count": 19
        }
      ],
      "source": [
        "countryP=np.delete(countryP,-1) #the last one\n",
        "countryP"
      ]
    },
    {
      "cell_type": "code",
      "execution_count": 20,
      "metadata": {
        "id": "h6UsIzY5tIgY",
        "colab": {
          "base_uri": "https://localhost:8080/"
        },
        "outputId": "5ae3356e-9577-495b-b0a2-41f7c8f24232"
      },
      "outputs": [
        {
          "output_type": "stream",
          "name": "stdout",
          "text": [
            "[1] \"Mexico\"  \"Peru\"    \"Italy\"   \"Uruguay\"\n"
          ]
        }
      ],
      "source": [
        "%%R\n",
        "countryR=countryR[-length(countryR)] #the last one\n",
        "countryR"
      ]
    },
    {
      "cell_type": "code",
      "execution_count": 21,
      "metadata": {
        "id": "EVla5Ov2tWhM",
        "colab": {
          "base_uri": "https://localhost:8080/"
        },
        "outputId": "69a89956-41d4-43a8-d7c8-4af24099ee41"
      },
      "outputs": [
        {
          "output_type": "execute_result",
          "data": {
            "text/plain": [
              "array([1, 4, 5, 6])"
            ]
          },
          "metadata": {},
          "execution_count": 21
        }
      ],
      "source": [
        "# for several positions\n",
        "\n",
        "vectorP=np.array([1,2,3,4,5,6])\n",
        "vectorP=np.delete(vectorP,range(1,3)) #delete row 1 and 3\n",
        "#now:\n",
        "vectorP"
      ]
    },
    {
      "cell_type": "code",
      "execution_count": 22,
      "metadata": {
        "id": "hquozQUutoXe",
        "colab": {
          "base_uri": "https://localhost:8080/"
        },
        "outputId": "7e99da45-d1bd-4fd8-e003-ae8489456918"
      },
      "outputs": [
        {
          "output_type": "stream",
          "name": "stdout",
          "text": [
            "[1] 1 6\n"
          ]
        }
      ],
      "source": [
        "%%R\n",
        "\n",
        "vectorR=c(1,2,3,4,5,6)\n",
        "vectorR=vectorR[-c(2:5)] #delete row 2 and 5\n",
        "\n",
        "#now:\n",
        "vectorR"
      ]
    },
    {
      "cell_type": "code",
      "execution_count": 23,
      "metadata": {
        "id": "4Sc0LyKDuJoz",
        "colab": {
          "base_uri": "https://localhost:8080/"
        },
        "outputId": "eca92f47-bc64-4b33-af8d-fc8c6abfb5b2"
      },
      "outputs": [
        {
          "output_type": "execute_result",
          "data": {
            "text/plain": [
              "array([11, 33, 55])"
            ]
          },
          "metadata": {},
          "execution_count": 23
        }
      ],
      "source": [
        "# non consecutive\n",
        "byeIndex=[1, 3, 5]\n",
        "\n",
        "vectorP=np.array([11,22,33,44,55,66])\n",
        "new_vectorP=np.delete(vectorP,byeIndex)\n",
        "\n",
        "#now:\n",
        "new_vectorP"
      ]
    },
    {
      "cell_type": "code",
      "execution_count": 24,
      "metadata": {
        "id": "A38KkgtGvpdv",
        "colab": {
          "base_uri": "https://localhost:8080/"
        },
        "outputId": "6776ef9c-86ea-4670-e573-afcfd1b25e54"
      },
      "outputs": [
        {
          "output_type": "stream",
          "name": "stdout",
          "text": [
            "[1] 22 44 66\n"
          ]
        }
      ],
      "source": [
        "%%R\n",
        "vectorR=c(11,22,33,44,55,66)\n",
        "new_vectorR=vectorR[-c(1,3,5)]\n",
        "new_vectorR"
      ]
    },
    {
      "cell_type": "markdown",
      "metadata": {
        "id": "rz-SxbVDyI_5"
      },
      "source": [
        "### by Value"
      ]
    },
    {
      "cell_type": "code",
      "execution_count": 25,
      "metadata": {
        "id": "kQCwXCw3tWhO",
        "colab": {
          "base_uri": "https://localhost:8080/"
        },
        "outputId": "ce06b2c4-2e95-4fdd-a4fe-7edfc5aa6501"
      },
      "outputs": [
        {
          "output_type": "execute_result",
          "data": {
            "text/plain": [
              "array([ 1, 45,  4])"
            ]
          },
          "metadata": {},
          "execution_count": 25
        }
      ],
      "source": [
        "vectorP=np.array([1,5,45,5,4])\n",
        "\n",
        "vectorP=np.delete(vectorP, np.where(vectorP == 5))\n",
        "\n",
        "#  changed:\n",
        "vectorP"
      ]
    },
    {
      "cell_type": "code",
      "execution_count": 26,
      "metadata": {
        "id": "fSrbGThNzuxk",
        "colab": {
          "base_uri": "https://localhost:8080/"
        },
        "outputId": "f9516673-7c29-4097-e551-54b7c005d87e"
      },
      "outputs": [
        {
          "output_type": "stream",
          "name": "stdout",
          "text": [
            "[1]  1 45  6\n"
          ]
        }
      ],
      "source": [
        "%%R\n",
        "\n",
        "vectorR=c(1,39,45,6,39)\n",
        "vectorR=vectorR[vectorR!=39]\n",
        "vectorR\n"
      ]
    },
    {
      "cell_type": "code",
      "execution_count": 27,
      "metadata": {
        "id": "JbW-UmIBKLpI",
        "colab": {
          "base_uri": "https://localhost:8080/"
        },
        "outputId": "e2edd77a-4934-4aeb-a341-1d1f4a65e16e"
      },
      "outputs": [
        {
          "output_type": "execute_result",
          "data": {
            "text/plain": [
              "array([7, 7, 7])"
            ]
          },
          "metadata": {},
          "execution_count": 27
        }
      ],
      "source": [
        "# by value\n",
        "vectorP=np.array([1,7,20,7,7])\n",
        "\n",
        "#vectorP=\n",
        "vectorP=np.delete(vectorP, np.isin(vectorP,[1,20]))\n",
        "\n",
        "#  changed:\n",
        "vectorP"
      ]
    },
    {
      "cell_type": "code",
      "execution_count": 28,
      "metadata": {
        "id": "uZaUCzb_MWpy",
        "colab": {
          "base_uri": "https://localhost:8080/"
        },
        "outputId": "75f662a7-98f7-41bc-f7f0-a3e790e70d6b"
      },
      "outputs": [
        {
          "output_type": "stream",
          "name": "stdout",
          "text": [
            "[1] 8 8\n"
          ]
        }
      ],
      "source": [
        "%%R\n",
        "\n",
        "vectorR=c(1,35,35,8,8)\n",
        "vectorR=vectorR[!vectorR%in%c(1,35)]\n",
        "vectorR"
      ]
    },
    {
      "cell_type": "markdown",
      "metadata": {
        "id": "JzcKbpXptWhX"
      },
      "source": [
        "## Inserting values"
      ]
    },
    {
      "cell_type": "markdown",
      "metadata": {
        "id": "hVd3ie7Azqz8"
      },
      "source": [
        "### at the End"
      ]
    },
    {
      "cell_type": "code",
      "execution_count": 29,
      "metadata": {
        "id": "or5OmtestWhY",
        "colab": {
          "base_uri": "https://localhost:8080/"
        },
        "outputId": "6f27ea52-ceb4-46f0-d91e-c7391a2b4cb1"
      },
      "outputs": [
        {
          "output_type": "execute_result",
          "data": {
            "text/plain": [
              "array([ 1,  2,  3,  4, 93])"
            ]
          },
          "metadata": {},
          "execution_count": 29
        }
      ],
      "source": [
        "vectorP=np.array([1,2,3,4])\n",
        "vectorP=np.append(vectorP,93)\n",
        "vectorP"
      ]
    },
    {
      "cell_type": "code",
      "execution_count": 30,
      "metadata": {
        "id": "QCiOC5fG3O42",
        "colab": {
          "base_uri": "https://localhost:8080/"
        },
        "outputId": "bb420588-e1d1-400a-ec6a-7a4bccacbf6e"
      },
      "outputs": [
        {
          "output_type": "stream",
          "name": "stdout",
          "text": [
            "[1] 1 2 3 4 9\n"
          ]
        }
      ],
      "source": [
        "%%R\n",
        "vectorR=c(1,2,3,4)\n",
        "vectorR=c(vectorR,9)\n",
        "vectorR"
      ]
    },
    {
      "cell_type": "markdown",
      "metadata": {
        "id": "O5b9vQ2Bz00B"
      },
      "source": [
        "### in a particular location"
      ]
    },
    {
      "cell_type": "code",
      "execution_count": 31,
      "metadata": {
        "id": "GB4IycLs32Ya",
        "colab": {
          "base_uri": "https://localhost:8080/"
        },
        "outputId": "31476752-f0d5-4b44-8db1-fb013323616d"
      },
      "outputs": [
        {
          "output_type": "execute_result",
          "data": {
            "text/plain": [
              "array([ 1,  2, 11,  3,  4])"
            ]
          },
          "metadata": {},
          "execution_count": 31
        }
      ],
      "source": [
        "vectorP=np.array([1,2,3,4])\n",
        "vectorP=np.insert(vectorP,obj=2,values=11) #obj is position 3\n",
        "vectorP"
      ]
    },
    {
      "cell_type": "code",
      "execution_count": 32,
      "metadata": {
        "id": "IcP2en363_ii",
        "colab": {
          "base_uri": "https://localhost:8080/"
        },
        "outputId": "dba60d65-2a97-4a80-a260-0b7b22bd020c"
      },
      "outputs": [
        {
          "output_type": "stream",
          "name": "stdout",
          "text": [
            "[1]  1  2  3 44  4\n"
          ]
        }
      ],
      "source": [
        "%%R\n",
        "vectorR=c(1,2,3,4)\n",
        "vectorR=append(vectorR,44,after=3)\n",
        "vectorR"
      ]
    },
    {
      "cell_type": "markdown",
      "metadata": {
        "id": "q6kyjfjmcYOe"
      },
      "source": [
        "## Concatenating"
      ]
    },
    {
      "cell_type": "code",
      "execution_count": 33,
      "metadata": {
        "id": "qheKebwLca3H",
        "colab": {
          "base_uri": "https://localhost:8080/"
        },
        "outputId": "038a07a2-f389-426d-b21f-4280c407e557"
      },
      "outputs": [
        {
          "output_type": "execute_result",
          "data": {
            "text/plain": [
              "array(['1', '2', '3', '4', 'b', 'z'], dtype='<U21')"
            ]
          },
          "metadata": {},
          "execution_count": 33
        }
      ],
      "source": [
        "import numpy as np\n",
        "\n",
        "vectorP1=np.array([1,2,3,4])\n",
        "vectorP2=np.array(['b','z'])\n",
        "vectorP12=np.concatenate((vectorP1,vectorP2))\n",
        "vectorP12"
      ]
    },
    {
      "cell_type": "code",
      "execution_count": 34,
      "metadata": {
        "id": "UmLUsWXwcvdM",
        "colab": {
          "base_uri": "https://localhost:8080/"
        },
        "outputId": "f932691a-7c1f-4687-fe65-564a74a60306"
      },
      "outputs": [
        {
          "output_type": "stream",
          "name": "stdout",
          "text": [
            "[1] \"1\" \"2\" \"3\" \"4\" \"m\" \"y\"\n"
          ]
        }
      ],
      "source": [
        "%%R\n",
        "vectorR1=c(1,2,3,4)\n",
        "vectorR2=c('m','y')\n",
        "vectorR12=c(vectorR1,vectorR2)\n",
        "vectorR12"
      ]
    },
    {
      "cell_type": "markdown",
      "metadata": {
        "id": "FQ6xriaGePFM"
      },
      "source": [
        "Remember that vectors support just one data type, and coercion will activate when different data types are detected."
      ]
    },
    {
      "cell_type": "code",
      "execution_count": 35,
      "metadata": {
        "id": "Ef6zopFhXpgY",
        "colab": {
          "base_uri": "https://localhost:8080/"
        },
        "outputId": "77ccadb4-3d7b-4edb-a0b2-cb08a9b86491"
      },
      "outputs": [
        {
          "output_type": "execute_result",
          "data": {
            "text/plain": [
              "array(['1', '2', '3', '4', '0'], dtype='<U21')"
            ]
          },
          "metadata": {},
          "execution_count": 35
        }
      ],
      "source": [
        "vectorP1=np.array([1,2,3,4,\"0\"])\n",
        "vectorP1"
      ]
    },
    {
      "cell_type": "code",
      "execution_count": 36,
      "metadata": {
        "id": "qF3_i7jFX8gf",
        "colab": {
          "base_uri": "https://localhost:8080/"
        },
        "outputId": "cdfec1b4-0d04-41d9-a407-9b335b9b4c91"
      },
      "outputs": [
        {
          "output_type": "stream",
          "name": "stdout",
          "text": [
            "[1] \"1\" \"2\" \"3\" \"4\" \"0\"\n"
          ]
        }
      ],
      "source": [
        "%%R\n",
        "vectorR1=c(1,2,3,4,\"0\")\n",
        "vectorR1"
      ]
    }
  ],
  "metadata": {
    "anaconda-cloud": {
      "attach-environment": true,
      "summary": "test"
    },
    "colab": {
      "provenance": [],
      "include_colab_link": true
    },
    "hide_input": false,
    "kernelspec": {
      "display_name": "Python 3 (ipykernel)",
      "language": "python",
      "name": "python3"
    },
    "language_info": {
      "codemirror_mode": {
        "name": "ipython",
        "version": 3
      },
      "file_extension": ".py",
      "mimetype": "text/x-python",
      "name": "python",
      "nbconvert_exporter": "python",
      "pygments_lexer": "ipython3",
      "version": "3.12.0"
    }
  },
  "nbformat": 4,
  "nbformat_minor": 0
}