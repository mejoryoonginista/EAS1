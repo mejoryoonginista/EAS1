{
  "cells": [
    {
      "cell_type": "markdown",
      "metadata": {
        "id": "view-in-github",
        "colab_type": "text"
      },
      "source": [
        "<a href=\"https://colab.research.google.com/github/mejoryoonginista/EAS1/blob/main/Copia_de_Python_R_Sets.ipynb\" target=\"_parent\"><img src=\"https://colab.research.google.com/assets/colab-badge.svg\" alt=\"Open In Colab\"/></a>"
      ]
    },
    {
      "cell_type": "markdown",
      "metadata": {
        "id": "yZwXi6TYRA2S"
      },
      "source": [
        "<img src=\"https://i.imgur.com/6U6q5jQ.png\"/>\n",
        "\n",
        "\n",
        "<a target=\"_blank\" href=\"https://colab.research.google.com/github/PythonVersusR/basicDataStructures_sets/blob/main/Python_R_Sets.ipynb\">\n",
        "  <img src=\"https://colab.research.google.com/assets/colab-badge.svg\" alt=\"Open In Colab\"/>\n",
        "</a>\n",
        "\n",
        "# Sets in Python"
      ]
    },
    {
      "cell_type": "code",
      "execution_count": 1,
      "metadata": {
        "id": "uppYHkB9RA2g"
      },
      "outputs": [],
      "source": [
        "%load_ext rpy2.ipython"
      ]
    },
    {
      "cell_type": "markdown",
      "metadata": {
        "id": "ix7xtYzM7GsE"
      },
      "source": [
        "## 1. Creating"
      ]
    },
    {
      "cell_type": "code",
      "execution_count": 2,
      "metadata": {
        "colab": {
          "base_uri": "https://localhost:8080/"
        },
        "id": "2ffBcMUO4W6D",
        "outputId": "8665d30f-9245-4ffa-9b7c-9c6323c93a6f"
      },
      "outputs": [
        {
          "output_type": "execute_result",
          "data": {
            "text/plain": [
              "{1, 2, 3, 5, 6, 10}"
            ]
          },
          "metadata": {},
          "execution_count": 2
        }
      ],
      "source": [
        "aSet={1,6,2,3,10,10,10,5}\n",
        "\n",
        "# then\n",
        "aSet"
      ]
    },
    {
      "cell_type": "markdown",
      "metadata": {
        "id": "yBEwwScRd8IL"
      },
      "source": [
        "Notice that **sets** do not allow duplicates, and show ordering of values."
      ]
    },
    {
      "cell_type": "markdown",
      "metadata": {
        "id": "XW-l5zTaAonr"
      },
      "source": [
        "## 2. Accessing"
      ]
    },
    {
      "cell_type": "markdown",
      "metadata": {
        "id": "9WfrgZlD4bMn"
      },
      "source": [
        "You can not use indexes in sets."
      ]
    },
    {
      "cell_type": "code",
      "execution_count": 3,
      "metadata": {
        "id": "KQrycQe_4hd2",
        "outputId": "d5b0846a-476b-426a-bbb7-ad878eaaf167",
        "colab": {
          "base_uri": "https://localhost:8080/",
          "height": 179
        }
      },
      "outputs": [
        {
          "output_type": "error",
          "ename": "TypeError",
          "evalue": "'set' object is not subscriptable",
          "traceback": [
            "\u001b[0;31m---------------------------------------------------------------------------\u001b[0m",
            "\u001b[0;31mTypeError\u001b[0m                                 Traceback (most recent call last)",
            "\u001b[0;32m<ipython-input-3-d4a24d0a2484>\u001b[0m in \u001b[0;36m<cell line: 1>\u001b[0;34m()\u001b[0m\n\u001b[0;32m----> 1\u001b[0;31m \u001b[0maSet\u001b[0m\u001b[0;34m[\u001b[0m\u001b[0;36m1\u001b[0m\u001b[0;34m]\u001b[0m \u001b[0;31m#this is an error\u001b[0m\u001b[0;34m\u001b[0m\u001b[0;34m\u001b[0m\u001b[0m\n\u001b[0m",
            "\u001b[0;31mTypeError\u001b[0m: 'set' object is not subscriptable"
          ]
        }
      ],
      "source": [
        "aSet[1] #this is an error"
      ]
    },
    {
      "cell_type": "code",
      "execution_count": 4,
      "metadata": {
        "colab": {
          "base_uri": "https://localhost:8080/"
        },
        "id": "vY3DDSJs4mU2",
        "outputId": "cdb6a70a-379b-41cd-8abe-f2d226ef745d"
      },
      "outputs": [
        {
          "output_type": "execute_result",
          "data": {
            "text/plain": [
              "3"
            ]
          },
          "metadata": {},
          "execution_count": 4
        }
      ],
      "source": [
        "#you would need a list:\n",
        "\n",
        "list(aSet)[2] #third position"
      ]
    },
    {
      "cell_type": "markdown",
      "metadata": {
        "id": "lvVhUDHpBzhM"
      },
      "source": [
        "## 2. Replacing"
      ]
    },
    {
      "cell_type": "markdown",
      "metadata": {
        "id": "tfywvzW8j_8j"
      },
      "source": [
        "You would need to rewrite or delete/add an element:"
      ]
    },
    {
      "cell_type": "code",
      "execution_count": 5,
      "metadata": {
        "colab": {
          "base_uri": "https://localhost:8080/"
        },
        "id": "a8_TaUeaB-KL",
        "outputId": "b705e0b8-5ee7-4af9-fdef-5836825b4760"
      },
      "outputs": [
        {
          "output_type": "execute_result",
          "data": {
            "text/plain": [
              "{100, 196, 1089, 2500}"
            ]
          },
          "metadata": {},
          "execution_count": 5
        }
      ],
      "source": [
        "# rewriting\n",
        "bSet={10,50,33,14}\n",
        "bSet=set(x**2 for x in bSet) #elements' root squared\n",
        "bSet"
      ]
    },
    {
      "cell_type": "code",
      "execution_count": 6,
      "metadata": {
        "colab": {
          "base_uri": "https://localhost:8080/"
        },
        "id": "YJKl01mwkZBs",
        "outputId": "66b689b3-a0dd-4a5f-f200-7a47a9b1f99b"
      },
      "outputs": [
        {
          "output_type": "execute_result",
          "data": {
            "text/plain": [
              "{'x', 'y', 'z'}"
            ]
          },
          "metadata": {},
          "execution_count": 6
        }
      ],
      "source": [
        "cSet={'x','y','my'}\n",
        "cSet.remove('my')\n",
        "cSet.add('z')\n",
        "cSet"
      ]
    },
    {
      "cell_type": "markdown",
      "metadata": {
        "id": "7zjqtGb8Ck6G"
      },
      "source": [
        "## 3. Deleting"
      ]
    },
    {
      "cell_type": "code",
      "execution_count": 7,
      "metadata": {
        "colab": {
          "base_uri": "https://localhost:8080/",
          "height": 197
        },
        "id": "ZM9dCqCKlYmV",
        "outputId": "b0274cba-ea62-49cc-cb3d-acc8225eebf3"
      },
      "outputs": [
        {
          "output_type": "error",
          "ename": "KeyError",
          "evalue": "'d'",
          "traceback": [
            "\u001b[0;31m---------------------------------------------------------------------------\u001b[0m",
            "\u001b[0;31mKeyError\u001b[0m                                  Traceback (most recent call last)",
            "\u001b[0;32m<ipython-input-7-d3be75fed451>\u001b[0m in \u001b[0;36m<cell line: 2>\u001b[0;34m()\u001b[0m\n\u001b[1;32m      1\u001b[0m \u001b[0mdSet\u001b[0m\u001b[0;34m=\u001b[0m\u001b[0;34m{\u001b[0m\u001b[0;36m1\u001b[0m\u001b[0;34m,\u001b[0m\u001b[0;36m2\u001b[0m\u001b[0;34m,\u001b[0m\u001b[0;36m3\u001b[0m\u001b[0;34m,\u001b[0m\u001b[0;34m'a'\u001b[0m\u001b[0;34m,\u001b[0m\u001b[0;34m'b'\u001b[0m\u001b[0;34m,\u001b[0m\u001b[0;34m'c'\u001b[0m\u001b[0;34m}\u001b[0m\u001b[0;34m\u001b[0m\u001b[0;34m\u001b[0m\u001b[0m\n\u001b[0;32m----> 2\u001b[0;31m \u001b[0mdSet\u001b[0m\u001b[0;34m.\u001b[0m\u001b[0mremove\u001b[0m\u001b[0;34m(\u001b[0m\u001b[0;34m'd'\u001b[0m\u001b[0;34m)\u001b[0m \u001b[0;31m#will not work\u001b[0m\u001b[0;34m\u001b[0m\u001b[0;34m\u001b[0m\u001b[0m\n\u001b[0m",
            "\u001b[0;31mKeyError\u001b[0m: 'd'"
          ]
        }
      ],
      "source": [
        "dSet={1,2,3,'a','b','c'}\n",
        "dSet.remove('d') #will not work"
      ]
    },
    {
      "cell_type": "code",
      "execution_count": 8,
      "metadata": {
        "colab": {
          "base_uri": "https://localhost:8080/"
        },
        "id": "UxZ_sEJUlkuZ",
        "outputId": "6d2d90a1-8ed7-4bc0-9197-105132f75d91"
      },
      "outputs": [
        {
          "output_type": "execute_result",
          "data": {
            "text/plain": [
              "{1, 13, 22, 'a', 'c'}"
            ]
          },
          "metadata": {},
          "execution_count": 8
        }
      ],
      "source": [
        "dSet={1,22,13,'a','b','c'}\n",
        "dSet.discard('b')\n",
        "dSet"
      ]
    },
    {
      "cell_type": "code",
      "execution_count": 9,
      "metadata": {
        "colab": {
          "base_uri": "https://localhost:8080/"
        },
        "id": "u93ck_VNmOlf",
        "outputId": "2f3a878f-1506-42ed-90b7-d6ae76b16d95"
      },
      "outputs": [
        {
          "output_type": "execute_result",
          "data": {
            "text/plain": [
              "{1, 'm', 'ñ'}"
            ]
          },
          "metadata": {},
          "execution_count": 9
        }
      ],
      "source": [
        "dSet={1,22,13,'m','n','ñ'}\n",
        "toDelete = [22,13,'n']\n",
        "\n",
        "# keep what is not in toDelete\n",
        "dSet.difference_update(toDelete)\n",
        "dSet"
      ]
    },
    {
      "cell_type": "markdown",
      "metadata": {
        "id": "-jXtOW0eRUOT"
      },
      "source": [
        "Notice the diference for deleting a set:"
      ]
    },
    {
      "cell_type": "code",
      "execution_count": 10,
      "metadata": {
        "colab": {
          "base_uri": "https://localhost:8080/"
        },
        "id": "mjS6Ti1kRMa8",
        "outputId": "aeb18f3a-465f-4e4f-c758-4edb5d57b28d"
      },
      "outputs": [
        {
          "output_type": "execute_result",
          "data": {
            "text/plain": [
              "set()"
            ]
          },
          "metadata": {},
          "execution_count": 10
        }
      ],
      "source": [
        "dSet.clear()\n",
        "dSet #empty the set"
      ]
    },
    {
      "cell_type": "code",
      "execution_count": 11,
      "metadata": {
        "colab": {
          "base_uri": "https://localhost:8080/"
        },
        "id": "qzfaIy0kRScs",
        "outputId": "d4fbdd04-0497-4850-f7d8-bd73ad0c75f0"
      },
      "outputs": [
        {
          "output_type": "execute_result",
          "data": {
            "text/plain": [
              "set()"
            ]
          },
          "metadata": {},
          "execution_count": 11
        }
      ],
      "source": [
        "del cSet\n",
        "dSet #get rid of set"
      ]
    },
    {
      "cell_type": "markdown",
      "metadata": {
        "id": "dD0Lb3LJTWVp"
      },
      "source": [
        "## 5. Inserting"
      ]
    },
    {
      "cell_type": "code",
      "execution_count": 12,
      "metadata": {
        "colab": {
          "base_uri": "https://localhost:8080/"
        },
        "id": "bKuATgHzRchr",
        "outputId": "11e649b0-e92b-4920-c427-50bb0a848a67"
      },
      "outputs": [
        {
          "output_type": "execute_result",
          "data": {
            "text/plain": [
              "{' ', 'a', 'd', 'e', 'hoy', 'mañana', 'n', 'pasado mañana', 'r', 's', 't', 'í'}"
            ]
          },
          "metadata": {},
          "execution_count": 12
        }
      ],
      "source": [
        "eSet={'hoy','mañana','pasado mañana'}\n",
        "eSet.update(('en tres días'))\n",
        "eSet"
      ]
    },
    {
      "cell_type": "code",
      "execution_count": 13,
      "metadata": {
        "colab": {
          "base_uri": "https://localhost:8080/"
        },
        "id": "RtOSulXTTeSm",
        "outputId": "2deb407e-e865-4de7-d5db-8d73454996f1"
      },
      "outputs": [
        {
          "output_type": "execute_result",
          "data": {
            "text/plain": [
              "{'en cuatro días', 'en tres días', 'hoy', 'mañana', 'pasado mañana'}"
            ]
          },
          "metadata": {},
          "execution_count": 13
        }
      ],
      "source": [
        "eSet={'hoy','mañana','pasado mañana'}\n",
        "eSet.update(('en tres días','en cuatro días'))\n",
        "eSet"
      ]
    },
    {
      "cell_type": "markdown",
      "metadata": {
        "id": "CVGWKH2DRg4t"
      },
      "source": [
        "## Other operations"
      ]
    },
    {
      "cell_type": "markdown",
      "metadata": {
        "id": "XDvC3-PZR_f7"
      },
      "source": [
        "If we have these sets:"
      ]
    },
    {
      "cell_type": "code",
      "execution_count": 14,
      "metadata": {
        "id": "QUOCC2LJSCqd"
      },
      "outputs": [],
      "source": [
        "set1={'w','x','y','z'}\n",
        "set2={1,2,3,4}\n",
        "set3={'w',2,3,'z'}"
      ]
    },
    {
      "cell_type": "markdown",
      "metadata": {
        "id": "eiXgIvvJST7O"
      },
      "source": [
        "We could use:"
      ]
    },
    {
      "cell_type": "code",
      "execution_count": 15,
      "metadata": {
        "colab": {
          "base_uri": "https://localhost:8080/"
        },
        "id": "aNikvAJgRjl2",
        "outputId": "109eface-3cd0-4ccf-d100-1a4aaffbcd1f"
      },
      "outputs": [
        {
          "output_type": "execute_result",
          "data": {
            "text/plain": [
              "{1, 2, 3, 4, 'w', 'x', 'y', 'z'}"
            ]
          },
          "metadata": {},
          "execution_count": 15
        }
      ],
      "source": [
        "# union\n",
        "set4=set1|set2\n",
        "set4"
      ]
    },
    {
      "cell_type": "code",
      "execution_count": 16,
      "metadata": {
        "colab": {
          "base_uri": "https://localhost:8080/"
        },
        "id": "trGF-kChSZn6",
        "outputId": "ffc26a4b-875c-42d8-b4ae-21156b2a8ecd"
      },
      "outputs": [
        {
          "output_type": "execute_result",
          "data": {
            "text/plain": [
              "{'w', 'z'}"
            ]
          },
          "metadata": {},
          "execution_count": 16
        }
      ],
      "source": [
        "#intersection\n",
        "set5=set1&set3\n",
        "set5"
      ]
    },
    {
      "cell_type": "code",
      "execution_count": 17,
      "metadata": {
        "colab": {
          "base_uri": "https://localhost:8080/"
        },
        "id": "TZYrio8rSqnH",
        "outputId": "a2d34ed7-7653-45c9-c8a0-b50d5938885e"
      },
      "outputs": [
        {
          "output_type": "execute_result",
          "data": {
            "text/plain": [
              "{1, 4}"
            ]
          },
          "metadata": {},
          "execution_count": 17
        }
      ],
      "source": [
        "# difference:\n",
        "# set of all the elements to the left that are not present in the right\n",
        "set6=set2-set3\n",
        "set6\n"
      ]
    },
    {
      "cell_type": "code",
      "execution_count": 18,
      "metadata": {
        "colab": {
          "base_uri": "https://localhost:8080/"
        },
        "id": "aBj0u4JKT5SU",
        "outputId": "79362ee9-5439-40fb-899d-f70dafa18a5b"
      },
      "outputs": [
        {
          "output_type": "execute_result",
          "data": {
            "text/plain": [
              "{1, 4, 'w', 'z'}"
            ]
          },
          "metadata": {},
          "execution_count": 18
        }
      ],
      "source": [
        "# symmetric difference\n",
        "# set of elements that are either in the first set or the second set\n",
        "# but not in both.\n",
        "\n",
        "set7=set2^set3\n",
        "set7"
      ]
    },
    {
      "cell_type": "markdown",
      "metadata": {
        "id": "XYjPbmiGij69"
      },
      "source": [
        "# Sets in R\n",
        "\n",
        "R does not have a set data structure, but it has _set_ operations for vectors:"
      ]
    },
    {
      "cell_type": "code",
      "execution_count": 19,
      "metadata": {
        "id": "MsBwt4EmXD0k"
      },
      "outputs": [],
      "source": [
        "%%R\n",
        "\n",
        "set1R=c('m','n','ñ','o')\n",
        "set2R=c(1,2,3,4)\n",
        "set3R=c('m',2,3,'o')\n"
      ]
    },
    {
      "cell_type": "code",
      "execution_count": 20,
      "metadata": {
        "id": "U_-grWqyXr4V",
        "colab": {
          "base_uri": "https://localhost:8080/"
        },
        "outputId": "bec642fb-63b1-430c-e59c-3ff2f81689e4"
      },
      "outputs": [
        {
          "output_type": "stream",
          "name": "stdout",
          "text": [
            "[1] \"m\" \"n\" \"ñ\" \"o\" \"1\" \"2\" \"3\" \"4\"\n"
          ]
        }
      ],
      "source": [
        "%%R\n",
        "\n",
        "union(set1R,set2R)"
      ]
    },
    {
      "cell_type": "code",
      "execution_count": 21,
      "metadata": {
        "id": "JjGnulMAYivk",
        "colab": {
          "base_uri": "https://localhost:8080/"
        },
        "outputId": "00935122-67e2-4233-8f81-9a244551abb4"
      },
      "outputs": [
        {
          "output_type": "stream",
          "name": "stdout",
          "text": [
            "[1] \"m\" \"o\"\n"
          ]
        }
      ],
      "source": [
        "%%R\n",
        "\n",
        "intersect(set1R,set3R)"
      ]
    },
    {
      "cell_type": "code",
      "execution_count": 22,
      "metadata": {
        "id": "AIB2ZsMDYs5F",
        "colab": {
          "base_uri": "https://localhost:8080/"
        },
        "outputId": "e699fdec-7280-49f7-91e5-ab86d3d956a8"
      },
      "outputs": [
        {
          "output_type": "stream",
          "name": "stdout",
          "text": [
            "[1] 1 4\n"
          ]
        }
      ],
      "source": [
        "%%R\n",
        "\n",
        "setdiff(set2R,set3R)"
      ]
    },
    {
      "cell_type": "code",
      "execution_count": 23,
      "metadata": {
        "id": "vsMuiq-WZAH3",
        "colab": {
          "base_uri": "https://localhost:8080/"
        },
        "outputId": "0036a3d8-b379-4710-d034-f7c2e0d4d29a"
      },
      "outputs": [
        {
          "output_type": "stream",
          "name": "stdout",
          "text": [
            "[1] \"1\" \"4\" \"m\" \"o\"\n"
          ]
        }
      ],
      "source": [
        "%%R\n",
        "\n",
        "#simmetric difference\n",
        "setdiff(union(set2R,set3R),intersect(set2R,set3R))"
      ]
    },
    {
      "cell_type": "markdown",
      "metadata": {
        "id": "qq3kTjOcaU6E"
      },
      "source": [
        "Notice set operations in R:"
      ]
    },
    {
      "cell_type": "code",
      "execution_count": 24,
      "metadata": {
        "id": "Rh9unFxRZiDF",
        "colab": {
          "base_uri": "https://localhost:8080/"
        },
        "outputId": "468ecf89-8235-4419-b3a3-5c8c5ace50b5"
      },
      "outputs": [
        {
          "output_type": "stream",
          "name": "stdout",
          "text": [
            "[1] \"a\" \"b\" \"c\" \"d\" \"1\" \"2\" \"3\" \"4\"\n"
          ]
        }
      ],
      "source": [
        "%%R\n",
        "\n",
        "set1R=c('a','b','c','d','d') #not a set\n",
        "set2R=c(1,2,3,4,4)#not a set\n",
        "union(set1R,set2R) #result is a set"
      ]
    }
  ],
  "metadata": {
    "anaconda-cloud": {
      "attach-environment": true,
      "summary": "test"
    },
    "colab": {
      "provenance": [],
      "toc_visible": true,
      "include_colab_link": true
    },
    "hide_input": false,
    "kernelspec": {
      "display_name": "Python 3 (ipykernel)",
      "language": "python",
      "name": "python3"
    },
    "language_info": {
      "codemirror_mode": {
        "name": "ipython",
        "version": 3
      },
      "file_extension": ".py",
      "mimetype": "text/x-python",
      "name": "python",
      "nbconvert_exporter": "python",
      "pygments_lexer": "ipython3",
      "version": "3.12.0"
    }
  },
  "nbformat": 4,
  "nbformat_minor": 0
}