{
  "cells": [
    {
      "cell_type": "markdown",
      "metadata": {
        "id": "view-in-github",
        "colab_type": "text"
      },
      "source": [
        "<a href=\"https://colab.research.google.com/github/mejoryoonginista/EAS1/blob/main/Copia_de_R_Python_Lists.ipynb\" target=\"_parent\"><img src=\"https://colab.research.google.com/assets/colab-badge.svg\" alt=\"Open In Colab\"/></a>"
      ]
    },
    {
      "cell_type": "markdown",
      "metadata": {
        "id": "dCNCKJGxzErY"
      },
      "source": [
        "<a href=\"https://imgur.com/6U6q5jQ\"><img src=\"https://i.imgur.com/6U6q5jQ.png\" title=\"source: imgur.com\" /></a>"
      ]
    },
    {
      "cell_type": "markdown",
      "metadata": {
        "id": "Bb5P9oBJtWgi"
      },
      "source": [
        "<a target=\"_blank\" href=\"https://colab.research.google.com/github/PythonVersusR/basicDataStructures_lists/blob/main/R_Python_Lists.ipynb\">\n",
        "  <img src=\"https://colab.research.google.com/assets/colab-badge.svg\" alt=\"Open In Colab\"/>\n",
        "</a>\n",
        "\n",
        "\n",
        "# Lists in R and Python"
      ]
    },
    {
      "cell_type": "code",
      "execution_count": 1,
      "metadata": {
        "id": "CQ0-6XdK5Sre"
      },
      "outputs": [],
      "source": [
        "## if needed, run this and RESTART KERNEL\n",
        "# import os\n",
        "# os.environ['R_HOME'] ='/Library/Frameworks/R.framework/Resources'"
      ]
    },
    {
      "cell_type": "code",
      "execution_count": 2,
      "metadata": {
        "id": "oo3FOXWP6ewM"
      },
      "outputs": [],
      "source": [
        "%load_ext rpy2.ipython"
      ]
    },
    {
      "cell_type": "markdown",
      "metadata": {
        "id": "ix7xtYzM7GsE"
      },
      "source": [
        "## 1. Creating"
      ]
    },
    {
      "cell_type": "code",
      "execution_count": 3,
      "metadata": {
        "id": "GHJeUsWetWgm"
      },
      "outputs": [],
      "source": [
        "namesP=[\"Juggy\", \"Karla\", \"Taehyun\", \"Yoongi\",\"Jordan\", \"Suga\", \"Jin\", \"Jungkook\"]\n",
        "agesP=[32,33,24,33,29,33,34,22]\n",
        "countryP=[\"China\", \"Italy\", \"Korea\", \"Norway\",\"Peru\",\"USA\",\"Bolivia\",\"Brasil\"]\n",
        "occupationP=[\"Teacher\", \"Publicist\", \"Singer\", \"Doctor\",\"Psychologist\", \"Doctor\", \"Carpenter\",\"Journalist\"]"
      ]
    },
    {
      "cell_type": "code",
      "execution_count": 4,
      "metadata": {
        "id": "kHOybyYs7bt3",
        "colab": {
          "base_uri": "https://localhost:8080/"
        },
        "outputId": "b8d1e4c8-2a1f-44e8-933e-151c97af593f"
      },
      "outputs": [
        {
          "output_type": "execute_result",
          "data": {
            "text/plain": [
              "list"
            ]
          },
          "metadata": {},
          "execution_count": 4
        }
      ],
      "source": [
        "type(namesP)"
      ]
    },
    {
      "cell_type": "code",
      "execution_count": 5,
      "metadata": {
        "id": "bYQ8wWNQ6rSt",
        "colab": {
          "base_uri": "https://localhost:8080/"
        },
        "outputId": "0e400431-7b65-41af-9c9e-8ccab5531ade"
      },
      "outputs": [
        {
          "output_type": "execute_result",
          "data": {
            "text/plain": [
              "['Juggy', 'Karla', 'Taehyun', 'Yoongi', 'Jordan', 'Suga', 'Jin', 'Jungkook']"
            ]
          },
          "metadata": {},
          "execution_count": 5
        }
      ],
      "source": [
        "namesP"
      ]
    },
    {
      "cell_type": "code",
      "execution_count": 6,
      "metadata": {
        "id": "dUxYQK6F5lks"
      },
      "outputs": [],
      "source": [
        "%%R\n",
        "namesR=list(\"Juggy\", \"Karla\", \"Taehyun\", \"Yoongi\",\"Jordan\", \"Suga\", \"Jin\", \"Jungkook\")\n",
        "agesR=list(32,33,24,33,29,33,34,22)\n",
        "countryR=list(\"China\", \"Italy\", \"Korea\", \"Norway\",\"Peru\",\"USA\",\"Bolivia\",\"Brasil\")\n",
        "occupationR=list(\"Teacher\", \"Publicist\", \"Singer\", \"Doctor\",\"Psychologist\", \"Doctor\", \"Carpenter\",\"Journalist\")"
      ]
    },
    {
      "cell_type": "code",
      "execution_count": 7,
      "metadata": {
        "id": "RSJyun677gMs",
        "colab": {
          "base_uri": "https://localhost:8080/"
        },
        "outputId": "3021d2f5-bf6f-4005-f2fb-08953b40a116"
      },
      "outputs": [
        {
          "output_type": "stream",
          "name": "stdout",
          "text": [
            "[1] \"list\"\n"
          ]
        }
      ],
      "source": [
        "%%R\n",
        "typeof(namesR)"
      ]
    },
    {
      "cell_type": "code",
      "execution_count": 8,
      "metadata": {
        "id": "9h7K4xpm6lzE",
        "colab": {
          "base_uri": "https://localhost:8080/"
        },
        "outputId": "2533fd50-33ec-46e1-c689-0667dc02c387"
      },
      "outputs": [
        {
          "output_type": "stream",
          "name": "stdout",
          "text": [
            "[[1]]\n",
            "[1] \"Juggy\"\n",
            "\n",
            "[[2]]\n",
            "[1] \"Karla\"\n",
            "\n",
            "[[3]]\n",
            "[1] \"Taehyun\"\n",
            "\n",
            "[[4]]\n",
            "[1] \"Yoongi\"\n",
            "\n",
            "[[5]]\n",
            "[1] \"Jordan\"\n",
            "\n",
            "[[6]]\n",
            "[1] \"Suga\"\n",
            "\n",
            "[[7]]\n",
            "[1] \"Jin\"\n",
            "\n",
            "[[8]]\n",
            "[1] \"Jungkook\"\n",
            "\n"
          ]
        }
      ],
      "source": [
        "%%R\n",
        "namesR"
      ]
    },
    {
      "cell_type": "markdown",
      "metadata": {
        "id": "_y7hce_8tWgr"
      },
      "source": [
        "## 2. Accessing"
      ]
    },
    {
      "cell_type": "code",
      "execution_count": 9,
      "metadata": {
        "id": "Hp4CogsCtWgr",
        "colab": {
          "base_uri": "https://localhost:8080/"
        },
        "outputId": "d148d008-a23f-461b-ea8c-a5ccb35be9bb"
      },
      "outputs": [
        {
          "output_type": "execute_result",
          "data": {
            "text/plain": [
              "24"
            ]
          },
          "metadata": {},
          "execution_count": 9
        }
      ],
      "source": [
        "# Keep in mind the positions in Python start in **0**.\n",
        "agesP[2]"
      ]
    },
    {
      "cell_type": "code",
      "execution_count": 10,
      "metadata": {
        "id": "LcIBAZEr7ml_",
        "colab": {
          "base_uri": "https://localhost:8080/"
        },
        "outputId": "1ac8f371-fecc-4d13-e418-e41279555afb"
      },
      "outputs": [
        {
          "output_type": "execute_result",
          "data": {
            "text/plain": [
              "int"
            ]
          },
          "metadata": {},
          "execution_count": 10
        }
      ],
      "source": [
        "type(agesP[2])"
      ]
    },
    {
      "cell_type": "code",
      "execution_count": 11,
      "metadata": {
        "id": "bZalkSyg7ozY",
        "colab": {
          "base_uri": "https://localhost:8080/"
        },
        "outputId": "6c74b024-97fa-49a5-c09a-7f693da4397e"
      },
      "outputs": [
        {
          "output_type": "stream",
          "name": "stdout",
          "text": [
            "[1] 29\n"
          ]
        }
      ],
      "source": [
        "%%R\n",
        "agesR[[5]]"
      ]
    },
    {
      "cell_type": "code",
      "execution_count": 12,
      "metadata": {
        "id": "Z_DmJ2Cj7qic",
        "colab": {
          "base_uri": "https://localhost:8080/"
        },
        "outputId": "318cc385-f124-4a36-cafd-3f56044485e6"
      },
      "outputs": [
        {
          "output_type": "stream",
          "name": "stdout",
          "text": [
            "[1] \"double\"\n"
          ]
        }
      ],
      "source": [
        "%%R\n",
        "typeof(agesR[[5]])"
      ]
    },
    {
      "cell_type": "code",
      "execution_count": 13,
      "metadata": {
        "id": "hvaThvo_8-ZB",
        "colab": {
          "base_uri": "https://localhost:8080/"
        },
        "outputId": "6706193a-f58a-4d6b-e6c6-9fe48ea34c5d"
      },
      "outputs": [
        {
          "output_type": "stream",
          "name": "stdout",
          "text": [
            "[[1]]\n",
            "[1] 33\n",
            "\n"
          ]
        }
      ],
      "source": [
        "%%R\n",
        "agesR[6]"
      ]
    },
    {
      "cell_type": "code",
      "execution_count": 14,
      "metadata": {
        "id": "1tUwi0-M82fp",
        "colab": {
          "base_uri": "https://localhost:8080/"
        },
        "outputId": "cce5c49e-2af0-4944-8f24-06b77f78023f"
      },
      "outputs": [
        {
          "output_type": "stream",
          "name": "stdout",
          "text": [
            "[1] \"list\"\n"
          ]
        }
      ],
      "source": [
        "%%R\n",
        "typeof(agesR[6])"
      ]
    },
    {
      "cell_type": "code",
      "execution_count": 15,
      "metadata": {
        "id": "MuQtAvsH-rJw",
        "colab": {
          "base_uri": "https://localhost:8080/",
          "height": 35
        },
        "outputId": "0e2e9bcc-a7a8-41dd-b8dd-e07058621d76"
      },
      "outputs": [
        {
          "output_type": "execute_result",
          "data": {
            "text/plain": [
              "'Brasil'"
            ],
            "application/vnd.google.colaboratory.intrinsic+json": {
              "type": "string"
            }
          },
          "metadata": {},
          "execution_count": 15
        }
      ],
      "source": [
        "#last element\n",
        "countryP[-1]"
      ]
    },
    {
      "cell_type": "code",
      "execution_count": 16,
      "metadata": {
        "id": "Ffzl7qci-yzx",
        "colab": {
          "base_uri": "https://localhost:8080/"
        },
        "outputId": "ddc64796-3d03-41c7-e9f4-6c8aad573e1f"
      },
      "outputs": [
        {
          "output_type": "stream",
          "name": "stdout",
          "text": [
            "[[1]]\n",
            "[1] \"Brasil\"\n",
            "\n"
          ]
        }
      ],
      "source": [
        "#last element\n",
        "%%R\n",
        "tail(countryR,1)"
      ]
    },
    {
      "cell_type": "markdown",
      "metadata": {
        "id": "hAq14dMo8TnG"
      },
      "source": [
        "### Slices"
      ]
    },
    {
      "cell_type": "code",
      "execution_count": 17,
      "metadata": {
        "id": "pa7c_1M1tWgv",
        "colab": {
          "base_uri": "https://localhost:8080/"
        },
        "outputId": "da239262-f6a5-4527-8293-bf9e3e96adca"
      },
      "outputs": [
        {
          "output_type": "execute_result",
          "data": {
            "text/plain": [
              "[33, 24, 33, 29]"
            ]
          },
          "metadata": {},
          "execution_count": 17
        }
      ],
      "source": [
        "# consecutive\n",
        "agesP[1:5] #second to fifth"
      ]
    },
    {
      "cell_type": "code",
      "execution_count": 18,
      "metadata": {
        "id": "AF942YnF8yc9",
        "colab": {
          "base_uri": "https://localhost:8080/"
        },
        "outputId": "f324ce8f-378c-4b97-f808-91f3d82b39a5"
      },
      "outputs": [
        {
          "output_type": "stream",
          "name": "stdout",
          "text": [
            "[[1]]\n",
            "[1] 33\n",
            "\n",
            "[[2]]\n",
            "[1] 24\n",
            "\n",
            "[[3]]\n",
            "[1] 33\n",
            "\n",
            "[[4]]\n",
            "[1] 29\n",
            "\n"
          ]
        }
      ],
      "source": [
        "%%R\n",
        "agesR[2:5] #second to fifth"
      ]
    },
    {
      "cell_type": "code",
      "execution_count": 19,
      "metadata": {
        "id": "XSO50xLN9MZB",
        "colab": {
          "base_uri": "https://localhost:8080/"
        },
        "outputId": "9090b1b0-b7bf-4362-cd94-398628056162"
      },
      "outputs": [
        {
          "output_type": "execute_result",
          "data": {
            "text/plain": [
              "[33, 33, 33, 22]"
            ]
          },
          "metadata": {},
          "execution_count": 19
        }
      ],
      "source": [
        "# non consecutive with step or pattern\n",
        "agesP[1:8:2] # second to eight step 2"
      ]
    },
    {
      "cell_type": "code",
      "execution_count": 20,
      "metadata": {
        "id": "J5V5_Cxl_Avj",
        "colab": {
          "base_uri": "https://localhost:8080/"
        },
        "outputId": "76aca12e-3328-4187-f6dd-f1d8b61e69cc"
      },
      "outputs": [
        {
          "output_type": "stream",
          "name": "stdout",
          "text": [
            "[[1]]\n",
            "[1] 33\n",
            "\n",
            "[[2]]\n",
            "[1] 33\n",
            "\n",
            "[[3]]\n",
            "[1] 33\n",
            "\n",
            "[[4]]\n",
            "[1] 22\n",
            "\n"
          ]
        }
      ],
      "source": [
        "%%R\n",
        "agesR[seq(2,8,2)]"
      ]
    },
    {
      "cell_type": "code",
      "execution_count": 21,
      "metadata": {
        "id": "p8h88eUjtWg1",
        "colab": {
          "base_uri": "https://localhost:8080/"
        },
        "outputId": "97989ba0-0f35-408f-c523-491345e648c7"
      },
      "outputs": [
        {
          "output_type": "execute_result",
          "data": {
            "text/plain": [
              "[32, 24, 33]"
            ]
          },
          "metadata": {},
          "execution_count": 21
        }
      ],
      "source": [
        "# non consecutive without step or pattern\n",
        "keepIndex=[0, 2, 3]\n",
        "[agesP[i] for i in keepIndex]\n"
      ]
    },
    {
      "cell_type": "code",
      "execution_count": 22,
      "metadata": {
        "id": "c8RpFx1dAEmz",
        "colab": {
          "base_uri": "https://localhost:8080/"
        },
        "outputId": "179ad4e1-d4cb-4085-eb05-a14898df3bf1"
      },
      "outputs": [
        {
          "output_type": "stream",
          "name": "stdout",
          "text": [
            "[[1]]\n",
            "[1] 32\n",
            "\n",
            "[[2]]\n",
            "[1] 24\n",
            "\n",
            "[[3]]\n",
            "[1] 33\n",
            "\n"
          ]
        }
      ],
      "source": [
        "%%R\n",
        "agesR[c(1,3,4)]"
      ]
    },
    {
      "cell_type": "markdown",
      "metadata": {
        "id": "3HdLpDektWg6"
      },
      "source": [
        "## Replacing"
      ]
    },
    {
      "cell_type": "markdown",
      "metadata": {
        "id": "W9tJhxjeBMyX"
      },
      "source": [
        "### by Position"
      ]
    },
    {
      "cell_type": "code",
      "execution_count": 23,
      "metadata": {
        "id": "Q5mtP1j8tWg7",
        "colab": {
          "base_uri": "https://localhost:8080/"
        },
        "outputId": "cc078b57-dac7-46aa-ac51-bc3f859037cd"
      },
      "outputs": [
        {
          "output_type": "execute_result",
          "data": {
            "text/plain": [
              "['China', 'Italy', 'Spain', 'Norway', 'Peru', 'USA', 'Bolivia', 'Brasil']"
            ]
          },
          "metadata": {},
          "execution_count": 23
        }
      ],
      "source": [
        "countryP[2]=\"Spain\"\n",
        "\n",
        "# list changed:\n",
        "countryP"
      ]
    },
    {
      "cell_type": "code",
      "execution_count": 24,
      "metadata": {
        "id": "Bq1cr1VPBRJz",
        "colab": {
          "base_uri": "https://localhost:8080/"
        },
        "outputId": "c979b35e-d4c7-42e1-dd56-23ba66e8588d"
      },
      "outputs": [
        {
          "output_type": "stream",
          "name": "stdout",
          "text": [
            "[[1]]\n",
            "[1] \"China\"\n",
            "\n",
            "[[2]]\n",
            "[1] \"Italy\"\n",
            "\n",
            "[[3]]\n",
            "[1] \"Spain\"\n",
            "\n",
            "[[4]]\n",
            "[1] \"Norway\"\n",
            "\n",
            "[[5]]\n",
            "[1] \"Peru\"\n",
            "\n",
            "[[6]]\n",
            "[1] \"USA\"\n",
            "\n",
            "[[7]]\n",
            "[1] \"Bolivia\"\n",
            "\n",
            "[[8]]\n",
            "[1] \"Brasil\"\n",
            "\n"
          ]
        }
      ],
      "source": [
        "%%R\n",
        "countryR[[3]]=\"Spain\"\n",
        "\n",
        "# list changed:\n",
        "countryR"
      ]
    },
    {
      "cell_type": "markdown",
      "metadata": {
        "id": "i3KudD3Don96"
      },
      "source": [
        "### By Value"
      ]
    },
    {
      "cell_type": "code",
      "execution_count": 25,
      "metadata": {
        "id": "Nf9PJWMjqiNI",
        "colab": {
          "base_uri": "https://localhost:8080/"
        },
        "outputId": "0aac73ac-03aa-4fa5-95c9-fc1e032b5b28"
      },
      "outputs": [
        {
          "output_type": "execute_result",
          "data": {
            "text/plain": [
              "['PR China', 'Italy', 'Spain', 'Norway', 'Peru', 'USA', 'Bolivia', 'Brasil']"
            ]
          },
          "metadata": {},
          "execution_count": 25
        }
      ],
      "source": [
        "\n",
        "countryP[countryP==\"China\"]=\"PR China\"\n",
        "countryP"
      ]
    },
    {
      "cell_type": "code",
      "execution_count": 26,
      "metadata": {
        "id": "ZozgXyECpjy2",
        "colab": {
          "base_uri": "https://localhost:8080/"
        },
        "outputId": "b5cd02c6-0674-43f9-c7ea-d9d9094d5ffc"
      },
      "outputs": [
        {
          "output_type": "stream",
          "name": "stdout",
          "text": [
            "[[1]]\n",
            "[1] \"PR China\"\n",
            "\n",
            "[[2]]\n",
            "[1] \"Italy\"\n",
            "\n",
            "[[3]]\n",
            "[1] \"Spain\"\n",
            "\n",
            "[[4]]\n",
            "[1] \"Norway\"\n",
            "\n",
            "[[5]]\n",
            "[1] \"Peru\"\n",
            "\n",
            "[[6]]\n",
            "[1] \"USA\"\n",
            "\n",
            "[[7]]\n",
            "[1] \"Bolivia\"\n",
            "\n",
            "[[8]]\n",
            "[1] \"Brasil\"\n",
            "\n"
          ]
        }
      ],
      "source": [
        "%%R\n",
        "countryR[countryR=='China']=\"PR China\"\n",
        "countryR"
      ]
    },
    {
      "cell_type": "markdown",
      "metadata": {
        "id": "_CF8wYu0tWhH"
      },
      "source": [
        "## Deleting"
      ]
    },
    {
      "cell_type": "markdown",
      "metadata": {
        "id": "bjYzRXv2rB2r"
      },
      "source": [
        "### By Position"
      ]
    },
    {
      "cell_type": "code",
      "execution_count": 27,
      "metadata": {
        "id": "ghWSnmzftWhH",
        "colab": {
          "base_uri": "https://localhost:8080/"
        },
        "outputId": "1feaf555-0fbe-4b48-86db-978b67040ca6"
      },
      "outputs": [
        {
          "output_type": "execute_result",
          "data": {
            "text/plain": [
              "['PR China', 'Italy', 'Spain', 'Norway', 'Peru', 'USA', 'Bolivia']"
            ]
          },
          "metadata": {},
          "execution_count": 27
        }
      ],
      "source": [
        "del countryP[-1] #last value\n",
        "\n",
        "# list changed:\n",
        "countryP"
      ]
    },
    {
      "cell_type": "code",
      "execution_count": 28,
      "metadata": {
        "id": "h6UsIzY5tIgY",
        "colab": {
          "base_uri": "https://localhost:8080/"
        },
        "outputId": "44a70d9e-e23c-4ac3-b414-19073c10d80e"
      },
      "outputs": [
        {
          "output_type": "stream",
          "name": "stdout",
          "text": [
            "[[1]]\n",
            "[1] \"PR China\"\n",
            "\n",
            "[[2]]\n",
            "[1] \"Italy\"\n",
            "\n",
            "[[3]]\n",
            "[1] \"Spain\"\n",
            "\n",
            "[[4]]\n",
            "[1] \"Norway\"\n",
            "\n",
            "[[5]]\n",
            "[1] \"Peru\"\n",
            "\n",
            "[[6]]\n",
            "[1] \"USA\"\n",
            "\n",
            "[[7]]\n",
            "[1] \"Bolivia\"\n",
            "\n"
          ]
        }
      ],
      "source": [
        "%%R\n",
        "countryR[length(countryR)]=NULL\n",
        "countryR"
      ]
    },
    {
      "cell_type": "code",
      "execution_count": 29,
      "metadata": {
        "id": "EVla5Ov2tWhM",
        "colab": {
          "base_uri": "https://localhost:8080/"
        },
        "outputId": "844e8d4d-f206-4f32-9166-e81113df54df"
      },
      "outputs": [
        {
          "output_type": "execute_result",
          "data": {
            "text/plain": [
              "[1, 5, 6]"
            ]
          },
          "metadata": {},
          "execution_count": 29
        }
      ],
      "source": [
        "# 'del' works for several positions\n",
        "\n",
        "listP=[1,2,3,4,5,6]\n",
        "del listP[1:4]\n",
        "\n",
        "#now:\n",
        "listP"
      ]
    },
    {
      "cell_type": "code",
      "execution_count": 30,
      "metadata": {
        "id": "hquozQUutoXe",
        "colab": {
          "base_uri": "https://localhost:8080/"
        },
        "outputId": "cd6b3026-64c1-4548-baee-77844a1967be"
      },
      "outputs": [
        {
          "output_type": "stream",
          "name": "stdout",
          "text": [
            "[[1]]\n",
            "[1] 1\n",
            "\n",
            "[[2]]\n",
            "[1] 5\n",
            "\n",
            "[[3]]\n",
            "[1] 6\n",
            "\n"
          ]
        }
      ],
      "source": [
        "%%R\n",
        "\n",
        "listR=list(1,2,3,4,5,6)\n",
        "listR[2:4]=NULL\n",
        "\n",
        "#now:\n",
        "listR"
      ]
    },
    {
      "cell_type": "code",
      "execution_count": 31,
      "metadata": {
        "id": "4Sc0LyKDuJoz",
        "colab": {
          "base_uri": "https://localhost:8080/"
        },
        "outputId": "6d36e67c-9403-45f3-9c1a-612eea4918a7"
      },
      "outputs": [
        {
          "output_type": "execute_result",
          "data": {
            "text/plain": [
              "[10, 30, 50]"
            ]
          },
          "metadata": {},
          "execution_count": 31
        }
      ],
      "source": [
        "# non consecutive\n",
        "listP=[10,11,30,33,50,55]\n",
        "byeIndex=[1, 3, 5]\n",
        "listP=[listP[i] for i in range(len(listP)) if not i in byeIndex]\n",
        "listP"
      ]
    },
    {
      "cell_type": "code",
      "execution_count": 32,
      "metadata": {
        "id": "A38KkgtGvpdv",
        "colab": {
          "base_uri": "https://localhost:8080/"
        },
        "outputId": "add0c2c9-5879-468f-bbc2-b49095bcb5aa"
      },
      "outputs": [
        {
          "output_type": "stream",
          "name": "stdout",
          "text": [
            "[[1]]\n",
            "[1] 11\n",
            "\n",
            "[[2]]\n",
            "[1] 33\n",
            "\n",
            "[[3]]\n",
            "[1] 55\n",
            "\n"
          ]
        }
      ],
      "source": [
        "%%R\n",
        "listR=list(11,22,33,44,55,66)\n",
        "listR[c(2,4,6)]=NULL\n",
        "listR"
      ]
    },
    {
      "cell_type": "markdown",
      "metadata": {
        "id": "rz-SxbVDyI_5"
      },
      "source": [
        "### by Value"
      ]
    },
    {
      "cell_type": "code",
      "execution_count": 33,
      "metadata": {
        "id": "kQCwXCw3tWhO",
        "colab": {
          "base_uri": "https://localhost:8080/"
        },
        "outputId": "db35035d-20af-49eb-c1ff-3d0696c36d8c"
      },
      "outputs": [
        {
          "output_type": "execute_result",
          "data": {
            "text/plain": [
              "[1, 45, 'b', 'a']"
            ]
          },
          "metadata": {},
          "execution_count": 33
        }
      ],
      "source": [
        "# by value\n",
        "listP=[1,'a',45,'b','a']\n",
        "listP.remove('a')\n",
        "\n",
        "# list changed:\n",
        "listP # just first ocurrence of value!!"
      ]
    },
    {
      "cell_type": "code",
      "execution_count": 34,
      "metadata": {
        "id": "GUi3v8hqtWhU",
        "colab": {
          "base_uri": "https://localhost:8080/"
        },
        "outputId": "49fe4eda-dd3b-40d4-8f06-d9497ca7593a"
      },
      "outputs": [
        {
          "output_type": "execute_result",
          "data": {
            "text/plain": [
              "[1, 45, 'b']"
            ]
          },
          "metadata": {},
          "execution_count": 34
        }
      ],
      "source": [
        "# deleting every  value:\n",
        "\n",
        "listP=[1,'a',45,'b','a']\n",
        "listP=[p for p in listP if not p in ['a']]\n",
        "\n",
        "# you get:\n",
        "listP"
      ]
    },
    {
      "cell_type": "code",
      "execution_count": 35,
      "metadata": {
        "id": "fSrbGThNzuxk",
        "colab": {
          "base_uri": "https://localhost:8080/"
        },
        "outputId": "6f248866-232f-4fc5-8b38-b6ecd3e0f0a6"
      },
      "outputs": [
        {
          "output_type": "stream",
          "name": "stdout",
          "text": [
            "[[1]]\n",
            "[1] 1\n",
            "\n",
            "[[2]]\n",
            "[1] 45\n",
            "\n",
            "[[3]]\n",
            "[1] \"b\"\n",
            "\n"
          ]
        }
      ],
      "source": [
        "%%R\n",
        "\n",
        "listR=list(1,'a',45,'b','a')\n",
        "listR=listR[!listR %in% list('a')]\n",
        "listR\n"
      ]
    },
    {
      "cell_type": "markdown",
      "metadata": {
        "id": "JzcKbpXptWhX"
      },
      "source": [
        "## Inserting values"
      ]
    },
    {
      "cell_type": "code",
      "execution_count": 36,
      "metadata": {
        "id": "or5OmtestWhY",
        "colab": {
          "base_uri": "https://localhost:8080/"
        },
        "outputId": "c9be5c5b-0dd7-4eb0-ec73-01a444fe4cd2"
      },
      "outputs": [
        {
          "output_type": "execute_result",
          "data": {
            "text/plain": [
              "[1, 'a', 45, 'b', 'a', 'cde']"
            ]
          },
          "metadata": {},
          "execution_count": 36
        }
      ],
      "source": [
        "# at the end\n",
        "listP=[1,'a',45,'b','a']\n",
        "listP.append(\"cde\")\n",
        "listP"
      ]
    },
    {
      "cell_type": "code",
      "execution_count": 37,
      "metadata": {
        "id": "QCiOC5fG3O42",
        "colab": {
          "base_uri": "https://localhost:8080/"
        },
        "outputId": "3b871ffc-1005-4415-9ab7-dc3c6b358c38"
      },
      "outputs": [
        {
          "output_type": "stream",
          "name": "stdout",
          "text": [
            "[[1]]\n",
            "[1] 1\n",
            "\n",
            "[[2]]\n",
            "[1] \"a\"\n",
            "\n",
            "[[3]]\n",
            "[1] 45\n",
            "\n",
            "[[4]]\n",
            "[1] \"b\"\n",
            "\n",
            "[[5]]\n",
            "[1] \"a\"\n",
            "\n",
            "[[6]]\n",
            "[1] \"cde\"\n",
            "\n"
          ]
        }
      ],
      "source": [
        "%%R\n",
        "listR=list(1,'a',45,'b','a')\n",
        "listR=append(listR,'cde')\n",
        "listR"
      ]
    },
    {
      "cell_type": "code",
      "execution_count": 38,
      "metadata": {
        "id": "GB4IycLs32Ya",
        "colab": {
          "base_uri": "https://localhost:8080/"
        },
        "outputId": "644eacf0-0e4c-4e39-851f-7cb1e86e1c96"
      },
      "outputs": [
        {
          "output_type": "execute_result",
          "data": {
            "text/plain": [
              "[1, 'a', 'cde', 45, 'b', 'a']"
            ]
          },
          "metadata": {},
          "execution_count": 38
        }
      ],
      "source": [
        "# specific position\n",
        "listP=[1,'a',45,'b','a']\n",
        "listP.insert(2,\"cde\")\n",
        "listP"
      ]
    },
    {
      "cell_type": "code",
      "execution_count": 39,
      "metadata": {
        "id": "IcP2en363_ii",
        "colab": {
          "base_uri": "https://localhost:8080/"
        },
        "outputId": "550d4b0d-0626-4c2c-dbf8-b9799711f8b0"
      },
      "outputs": [
        {
          "output_type": "stream",
          "name": "stdout",
          "text": [
            "[[1]]\n",
            "[1] 1\n",
            "\n",
            "[[2]]\n",
            "[1] \"a\"\n",
            "\n",
            "[[3]]\n",
            "[1] \"cde\"\n",
            "\n",
            "[[4]]\n",
            "[1] 45\n",
            "\n",
            "[[5]]\n",
            "[1] \"b\"\n",
            "\n",
            "[[6]]\n",
            "[1] \"a\"\n",
            "\n"
          ]
        }
      ],
      "source": [
        "%%R\n",
        "listR=list(1,'a',45,'b','a')\n",
        "listR=append(listR,'cde',after=2)\n",
        "listR"
      ]
    },
    {
      "cell_type": "markdown",
      "metadata": {
        "id": "ceqfkORcK9vt"
      },
      "source": [
        "## Concatenating"
      ]
    },
    {
      "cell_type": "code",
      "execution_count": 40,
      "metadata": {
        "id": "4nFczku8K_3k",
        "colab": {
          "base_uri": "https://localhost:8080/"
        },
        "outputId": "41a9e510-9282-4396-f923-1c4bb1ffa040"
      },
      "outputs": [
        {
          "output_type": "execute_result",
          "data": {
            "text/plain": [
              "[1, 2, 3, 'a', 'b', 'c']"
            ]
          },
          "metadata": {},
          "execution_count": 40
        }
      ],
      "source": [
        "listA_P=[1,2,3]\n",
        "listB_P=['a', 'b', 'c']\n",
        "listA_P + listB_P"
      ]
    },
    {
      "cell_type": "code",
      "execution_count": 41,
      "metadata": {
        "id": "gvCtdID3bgm-",
        "colab": {
          "base_uri": "https://localhost:8080/"
        },
        "outputId": "0c204e73-34c2-4ec9-fcfe-e369e735080d"
      },
      "outputs": [
        {
          "output_type": "execute_result",
          "data": {
            "text/plain": [
              "[1, 2, 3, 'a', 'b', 'c']"
            ]
          },
          "metadata": {},
          "execution_count": 41
        }
      ],
      "source": [
        "listA2_P=[1,2,3]\n",
        "listB2_P=['a', 'b', 'c']\n",
        "listA2_P.extend(listB2_P)\n",
        "listA2_P"
      ]
    },
    {
      "cell_type": "code",
      "execution_count": 42,
      "metadata": {
        "id": "hajS5MgJLRj9",
        "colab": {
          "base_uri": "https://localhost:8080/"
        },
        "outputId": "2bc97928-1c6d-4b26-f03a-ed6762825ed2"
      },
      "outputs": [
        {
          "output_type": "stream",
          "name": "stdout",
          "text": [
            "[[1]]\n",
            "[1] 1\n",
            "\n",
            "[[2]]\n",
            "[1] 2\n",
            "\n",
            "[[3]]\n",
            "[1] 3\n",
            "\n",
            "[[4]]\n",
            "[1] \"a\"\n",
            "\n",
            "[[5]]\n",
            "[1] \"b\"\n",
            "\n",
            "[[6]]\n",
            "[1] \"c\"\n",
            "\n"
          ]
        }
      ],
      "source": [
        "%%R\n",
        "listA_R=list(1,2,3)\n",
        "listB_R=list('a', 'b', 'c')\n",
        "append(listA_R, listB_R)"
      ]
    },
    {
      "cell_type": "code",
      "execution_count": 43,
      "metadata": {
        "id": "buD_S1X6MUje",
        "colab": {
          "base_uri": "https://localhost:8080/"
        },
        "outputId": "0edd76f3-0ad3-4e57-fc0a-c5c0332da4d1"
      },
      "outputs": [
        {
          "output_type": "execute_result",
          "data": {
            "text/plain": [
              "[1, 2, 3, ['a', 'b', 'c']]"
            ]
          },
          "metadata": {},
          "execution_count": 43
        }
      ],
      "source": [
        "#notice\n",
        "listA1_P=[1,2,3]\n",
        "listB1_P=['a', 'b', 'c']\n",
        "listA1_P.append(listB1_P)\n",
        "listA1_P"
      ]
    },
    {
      "cell_type": "code",
      "execution_count": 44,
      "metadata": {
        "id": "MxaH2JXNLggB",
        "colab": {
          "base_uri": "https://localhost:8080/"
        },
        "outputId": "bd310e64-c495-40aa-c4b5-dbd937ae8b90"
      },
      "outputs": [
        {
          "output_type": "stream",
          "name": "stdout",
          "text": [
            "[[1]]\n",
            "[1] 1\n",
            "\n",
            "[[2]]\n",
            "[1] 2\n",
            "\n",
            "[[3]]\n",
            "[1] 3\n",
            "\n",
            "[[4]]\n",
            "[[4]][[1]]\n",
            "[1] \"a\"\n",
            "\n",
            "[[4]][[2]]\n",
            "[1] \"b\"\n",
            "\n",
            "[[4]][[3]]\n",
            "[1] \"c\"\n",
            "\n",
            "\n"
          ]
        }
      ],
      "source": [
        "%%R\n",
        "append(listA_R, list(listB_R))"
      ]
    }
  ],
  "metadata": {
    "anaconda-cloud": {
      "attach-environment": true,
      "summary": "test"
    },
    "colab": {
      "provenance": [],
      "toc_visible": true,
      "include_colab_link": true
    },
    "hide_input": false,
    "kernelspec": {
      "display_name": "Python 3 (ipykernel)",
      "language": "python",
      "name": "python3"
    },
    "language_info": {
      "codemirror_mode": {
        "name": "ipython",
        "version": 3
      },
      "file_extension": ".py",
      "mimetype": "text/x-python",
      "name": "python",
      "nbconvert_exporter": "python",
      "pygments_lexer": "ipython3",
      "version": "3.12.0"
    }
  },
  "nbformat": 4,
  "nbformat_minor": 0
}